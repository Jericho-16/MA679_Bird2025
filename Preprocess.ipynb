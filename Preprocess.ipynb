{
 "cells": [
  {
   "cell_type": "markdown",
   "id": "8f87de76",
   "metadata": {},
   "source": [
    "Preprocessing Data"
   ]
  },
  {
   "cell_type": "markdown",
   "id": "a33e0190",
   "metadata": {},
   "source": [
    "Loading library"
   ]
  },
  {
   "cell_type": "code",
   "execution_count": 14,
   "id": "31c1a9f4",
   "metadata": {},
   "outputs": [],
   "source": [
    "import os\n",
    "import pandas as pd\n",
    "import numpy as np\n",
    "import librosa\n",
    "import librosa.display as lid\n",
    "import matplotlib.pyplot as plt\n",
    "import IPython.display as ipd\n",
    "from matplotlib import cm\n",
    "from tqdm import tqdm\n",
    "tqdm.pandas()"
   ]
  },
  {
   "cell_type": "markdown",
   "id": "6869ea36",
   "metadata": {},
   "source": [
    "Configuration for function"
   ]
  },
  {
   "cell_type": "code",
   "execution_count": 16,
   "id": "c0a1fbab",
   "metadata": {},
   "outputs": [],
   "source": [
    "class CFG:\n",
    "    seed = 42\n",
    "    img_size = [128, 384]\n",
    "    batch_size = 64\n",
    "    duration = 15\n",
    "    sample_rate = 32000\n",
    "    audio_len = duration * sample_rate\n",
    "    nfft = 2028\n",
    "    window = 2048\n",
    "    hop_length = audio_len // (img_size[1] - 1)\n",
    "    fmin = 20\n",
    "    fmax = 16000\n",
    "    epochs = 10\n",
    "    preset = 'efficientnetv2_b2_imagenet'\n",
    "    augment = True\n",
    "\n",
    "cmap = cm.get_cmap('coolwarm')"
   ]
  },
  {
   "cell_type": "markdown",
   "id": "1b42ebb1",
   "metadata": {},
   "source": [
    "Loading data"
   ]
  },
  {
   "cell_type": "code",
   "execution_count": 15,
   "id": "a161a567",
   "metadata": {},
   "outputs": [],
   "source": [
    "DATA_DIR = 'E:/Desktop/BU/2025 Spring/MA679_Bird2025/'\n",
    "train_meta = pd.read_csv(os.path.join(DATA_DIR, 'train.csv'))\n",
    "\n",
    "# Label info\n",
    "class_names = sorted(train_meta['primary_label'].unique())\n",
    "name2id = {name: i for i, name in enumerate(class_names)}\n",
    "id2name = {i: name for name, i in name2id.items()}\n"
   ]
  },
  {
   "cell_type": "markdown",
   "id": "7f0021ce",
   "metadata": {},
   "source": [
    "Brief info about the file."
   ]
  },
  {
   "cell_type": "code",
   "execution_count": 32,
   "id": "c2f5ed39",
   "metadata": {},
   "outputs": [
    {
     "data": {
      "text/html": [
       "<div>\n",
       "<style scoped>\n",
       "    .dataframe tbody tr th:only-of-type {\n",
       "        vertical-align: middle;\n",
       "    }\n",
       "\n",
       "    .dataframe tbody tr th {\n",
       "        vertical-align: top;\n",
       "    }\n",
       "\n",
       "    .dataframe thead th {\n",
       "        text-align: right;\n",
       "    }\n",
       "</style>\n",
       "<table border=\"1\" class=\"dataframe\">\n",
       "  <thead>\n",
       "    <tr style=\"text-align: right;\">\n",
       "      <th></th>\n",
       "      <th>primary_label</th>\n",
       "      <th>secondary_labels</th>\n",
       "      <th>type</th>\n",
       "      <th>filename</th>\n",
       "      <th>collection</th>\n",
       "      <th>rating</th>\n",
       "      <th>url</th>\n",
       "      <th>latitude</th>\n",
       "      <th>longitude</th>\n",
       "      <th>scientific_name</th>\n",
       "      <th>common_name</th>\n",
       "      <th>author</th>\n",
       "      <th>license</th>\n",
       "    </tr>\n",
       "  </thead>\n",
       "  <tbody>\n",
       "    <tr>\n",
       "      <th>0</th>\n",
       "      <td>1139490</td>\n",
       "      <td>['']</td>\n",
       "      <td>['']</td>\n",
       "      <td>1139490/CSA36385.ogg</td>\n",
       "      <td>CSA</td>\n",
       "      <td>0.0</td>\n",
       "      <td>http://colecciones.humboldt.org.co/rec/sonidos...</td>\n",
       "      <td>7.3206</td>\n",
       "      <td>-73.7128</td>\n",
       "      <td>Ragoniella pulchella</td>\n",
       "      <td>Ragoniella pulchella</td>\n",
       "      <td>Fabio A. Sarria-S</td>\n",
       "      <td>cc-by-nc-sa 4.0</td>\n",
       "    </tr>\n",
       "    <tr>\n",
       "      <th>1</th>\n",
       "      <td>1139490</td>\n",
       "      <td>['']</td>\n",
       "      <td>['']</td>\n",
       "      <td>1139490/CSA36389.ogg</td>\n",
       "      <td>CSA</td>\n",
       "      <td>0.0</td>\n",
       "      <td>http://colecciones.humboldt.org.co/rec/sonidos...</td>\n",
       "      <td>7.3206</td>\n",
       "      <td>-73.7128</td>\n",
       "      <td>Ragoniella pulchella</td>\n",
       "      <td>Ragoniella pulchella</td>\n",
       "      <td>Fabio A. Sarria-S</td>\n",
       "      <td>cc-by-nc-sa 4.0</td>\n",
       "    </tr>\n",
       "    <tr>\n",
       "      <th>2</th>\n",
       "      <td>1192948</td>\n",
       "      <td>['']</td>\n",
       "      <td>['']</td>\n",
       "      <td>1192948/CSA36358.ogg</td>\n",
       "      <td>CSA</td>\n",
       "      <td>0.0</td>\n",
       "      <td>http://colecciones.humboldt.org.co/rec/sonidos...</td>\n",
       "      <td>7.3791</td>\n",
       "      <td>-73.7313</td>\n",
       "      <td>Oxyprora surinamensis</td>\n",
       "      <td>Oxyprora surinamensis</td>\n",
       "      <td>Fabio A. Sarria-S</td>\n",
       "      <td>cc-by-nc-sa 4.0</td>\n",
       "    </tr>\n",
       "    <tr>\n",
       "      <th>3</th>\n",
       "      <td>1192948</td>\n",
       "      <td>['']</td>\n",
       "      <td>['']</td>\n",
       "      <td>1192948/CSA36366.ogg</td>\n",
       "      <td>CSA</td>\n",
       "      <td>0.0</td>\n",
       "      <td>http://colecciones.humboldt.org.co/rec/sonidos...</td>\n",
       "      <td>7.2800</td>\n",
       "      <td>-73.8582</td>\n",
       "      <td>Oxyprora surinamensis</td>\n",
       "      <td>Oxyprora surinamensis</td>\n",
       "      <td>Fabio A. Sarria-S</td>\n",
       "      <td>cc-by-nc-sa 4.0</td>\n",
       "    </tr>\n",
       "    <tr>\n",
       "      <th>4</th>\n",
       "      <td>1192948</td>\n",
       "      <td>['']</td>\n",
       "      <td>['']</td>\n",
       "      <td>1192948/CSA36373.ogg</td>\n",
       "      <td>CSA</td>\n",
       "      <td>0.0</td>\n",
       "      <td>http://colecciones.humboldt.org.co/rec/sonidos...</td>\n",
       "      <td>7.3791</td>\n",
       "      <td>-73.7313</td>\n",
       "      <td>Oxyprora surinamensis</td>\n",
       "      <td>Oxyprora surinamensis</td>\n",
       "      <td>Fabio A. Sarria-S</td>\n",
       "      <td>cc-by-nc-sa 4.0</td>\n",
       "    </tr>\n",
       "  </tbody>\n",
       "</table>\n",
       "</div>"
      ],
      "text/plain": [
       "  primary_label secondary_labels  type              filename collection  \\\n",
       "0       1139490             ['']  ['']  1139490/CSA36385.ogg        CSA   \n",
       "1       1139490             ['']  ['']  1139490/CSA36389.ogg        CSA   \n",
       "2       1192948             ['']  ['']  1192948/CSA36358.ogg        CSA   \n",
       "3       1192948             ['']  ['']  1192948/CSA36366.ogg        CSA   \n",
       "4       1192948             ['']  ['']  1192948/CSA36373.ogg        CSA   \n",
       "\n",
       "   rating                                                url  latitude  \\\n",
       "0     0.0  http://colecciones.humboldt.org.co/rec/sonidos...    7.3206   \n",
       "1     0.0  http://colecciones.humboldt.org.co/rec/sonidos...    7.3206   \n",
       "2     0.0  http://colecciones.humboldt.org.co/rec/sonidos...    7.3791   \n",
       "3     0.0  http://colecciones.humboldt.org.co/rec/sonidos...    7.2800   \n",
       "4     0.0  http://colecciones.humboldt.org.co/rec/sonidos...    7.3791   \n",
       "\n",
       "   longitude        scientific_name            common_name             author  \\\n",
       "0   -73.7128   Ragoniella pulchella   Ragoniella pulchella  Fabio A. Sarria-S   \n",
       "1   -73.7128   Ragoniella pulchella   Ragoniella pulchella  Fabio A. Sarria-S   \n",
       "2   -73.7313  Oxyprora surinamensis  Oxyprora surinamensis  Fabio A. Sarria-S   \n",
       "3   -73.8582  Oxyprora surinamensis  Oxyprora surinamensis  Fabio A. Sarria-S   \n",
       "4   -73.7313  Oxyprora surinamensis  Oxyprora surinamensis  Fabio A. Sarria-S   \n",
       "\n",
       "           license  \n",
       "0  cc-by-nc-sa 4.0  \n",
       "1  cc-by-nc-sa 4.0  \n",
       "2  cc-by-nc-sa 4.0  \n",
       "3  cc-by-nc-sa 4.0  \n",
       "4  cc-by-nc-sa 4.0  "
      ]
     },
     "execution_count": 32,
     "metadata": {},
     "output_type": "execute_result"
    }
   ],
   "source": [
    "train_meta.head()"
   ]
  },
  {
   "cell_type": "markdown",
   "id": "32860460",
   "metadata": {},
   "source": [
    "Loading audio, convertion of spectrum ftn\n",
    "Also handling mel & label pair"
   ]
  },
  {
   "cell_type": "code",
   "execution_count": 34,
   "id": "b0e12fc8",
   "metadata": {},
   "outputs": [],
   "source": [
    "def extract_mel_label(row):\n",
    "    try:\n",
    "        filepath = os.path.join(DATA_DIR, 'train_audio', row['filename'])\n",
    "        audio, _ = load_audio(filepath)\n",
    "        mel = audio_to_mel(audio)\n",
    "        label = name2id[row['primary_label']]\n",
    "        return mel, label\n",
    "    except Exception as e:\n",
    "        print(f\"Error processing {filepath}: {e}\")\n",
    "        return None, None\n",
    "\n",
    "\n",
    "def load_audio(filepath):\n",
    "    audio, sr = librosa.load(filepath, sr=CFG.sample_rate)\n",
    "    if len(audio) < CFG.audio_len:\n",
    "        audio = np.pad(audio, (0, CFG.audio_len - len(audio)))\n",
    "    else:\n",
    "        audio = audio[:CFG.audio_len]\n",
    "    return audio, sr\n",
    "\n",
    "def audio_to_mel(audio):\n",
    "    mel = librosa.feature.melspectrogram(\n",
    "        y=audio,\n",
    "        sr=CFG.sample_rate,\n",
    "        n_fft=CFG.nfft,\n",
    "        hop_length=CFG.hop_length,\n",
    "        win_length=CFG.window,\n",
    "        n_mels=CFG.img_size[0],\n",
    "        fmin=CFG.fmin,\n",
    "        fmax=CFG.fmax\n",
    "    )\n",
    "    mel_db = librosa.power_to_db(mel, ref=np.max)\n",
    "    mel_db -= mel_db.min()\n",
    "    mel_db /= mel_db.max()\n",
    "    return mel_db\n"
   ]
  },
  {
   "cell_type": "markdown",
   "id": "e7778f95",
   "metadata": {},
   "source": [
    "Display sample 1"
   ]
  },
  {
   "cell_type": "code",
   "execution_count": 36,
   "id": "5dd702c3",
   "metadata": {},
   "outputs": [
    {
     "name": "stdout",
     "output_type": "stream",
     "text": [
      "Error processing E:/Desktop/BU/2025 Spring/MA679_Bird2025/train_audio\\1139490/CSA36385.ogg: Target size (2028) must be at least input size (2048)\n"
     ]
    }
   ],
   "source": [
    "import matplotlib.pyplot as plt\n",
    "\n",
    "# Select one row (e.g., the first one)\n",
    "row = train_meta.iloc[0]\n",
    "\n",
    "# Extract mel and label\n",
    "mel, label = extract_mel_label(row)\n",
    "\n",
    "# Check if successful\n",
    "if mel is not None:\n",
    "    print(\"Mel shape:\", mel.shape)\n",
    "    print(\"Label (class id):\", label, \"| Label name:\", id2name[label])\n",
    "\n",
    "    # Plot the mel spectrogram\n",
    "    plt.figure(figsize=(10, 4))\n",
    "    librosa.display.specshow(mel, sr=CFG.sample_rate, hop_length=CFG.hop_length,\n",
    "                             fmin=CFG.fmin, fmax=CFG.fmax,\n",
    "                             x_axis='time', y_axis='mel', cmap='magma')\n",
    "    plt.colorbar(format='%+2.0f dB')\n",
    "    plt.title('Mel Spectrogram')\n",
    "    plt.tight_layout()\n",
    "    plt.show()"
   ]
  },
  {
   "cell_type": "markdown",
   "id": "76101fa4",
   "metadata": {},
   "source": [
    "Augmenters"
   ]
  },
  {
   "cell_type": "markdown",
   "id": "59fdb5a2",
   "metadata": {},
   "source": []
  }
 ],
 "metadata": {
  "kernelspec": {
   "display_name": "Python 3",
   "language": "python",
   "name": "python3"
  },
  "language_info": {
   "codemirror_mode": {
    "name": "ipython",
    "version": 3
   },
   "file_extension": ".py",
   "mimetype": "text/x-python",
   "name": "python",
   "nbconvert_exporter": "python",
   "pygments_lexer": "ipython3",
   "version": "3.13.2"
  }
 },
 "nbformat": 4,
 "nbformat_minor": 5
}
